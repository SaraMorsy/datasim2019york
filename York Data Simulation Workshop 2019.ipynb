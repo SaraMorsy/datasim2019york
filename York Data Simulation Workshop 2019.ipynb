{
 "cells": [
  {
   "cell_type": "markdown",
   "metadata": {
    "slideshow": {
     "slide_type": "slide"
    }
   },
   "source": [
    "# A very basic oddball task demo\n",
    "\n",
    "Hao-Ting Wang\n",
    "\n",
    "6th June 2019"
   ]
  },
  {
   "cell_type": "markdown",
   "metadata": {
    "slideshow": {
     "slide_type": "slide"
    }
   },
   "source": [
    "## Resources for educational perpose or general applications\n",
    "\n",
    " - MATLAB: [Sam's optimal MRI experiment sequence](http://www.samberens.co.uk/SamsOptseq.html)  \n",
    " - R (and general references): [Prof D Bishop's data simulation learning material](https://osf.io/skz3j/)  \n",
    " - Python: [Erik Marsja (Journal of European Psychology Students)](https://blog.efpsa.org/2016/07/12/python-programming-in-psychology-from-data-collection-to-analysis/)\n",
    "\n",
    "## Examples with more specific purposes\n",
    "Sam's projects [1](https://osf.io/rqwv5/), [2](https://osf.io/9wn3h/)  \n",
    "[Hao-Ting's N-back experience sampling task](https://vcs.ynic.york.ac.uk/hw1012/nbackmindwandering)  \n",
    "[Hao-Ting and Adam's go/no-go experience sampling task](https://vcs.ynic.york.ac.uk/hw1012/go_nogo_experience_sampling/)"
   ]
  },
  {
   "cell_type": "markdown",
   "metadata": {
    "slideshow": {
     "slide_type": "slide"
    }
   },
   "source": [
    "## A very basic oddball task demo\n",
    "\n",
    "In short, it's a go/no-go task.\n",
    "\n",
    "Aims: \n",
    " - understand how to use simulation for basic jittering\n",
    " - create simple simulation data\n",
    " - doing the above without actually writing an experiement (sort of)"
   ]
  },
  {
   "cell_type": "code",
   "execution_count": 1,
   "metadata": {
    "slideshow": {
     "slide_type": "slide"
    }
   },
   "outputs": [],
   "source": [
    "import pandas as pd\n",
    "import numpy as np\n",
    "\n",
    "# set some basic variables for the task\n",
    "time_length = 1.5\n",
    "target = 'O'\n",
    "none = 'X'\n",
    "odd = 'Q'\n",
    "fixation = '+'\n",
    "\n",
    "target_chance = 0.60\n",
    "none_chance = 0.20\n",
    "base = 2500  # mu for fixation cross\n",
    "jitter = 1000  # sigma for fixation cross\n",
    "\n",
    "counter = 60 * time_length * 1000\n",
    "n_trials = 20\n",
    "t_trials = counter / n_trials  # Maximum number of trials possible\n",
    "\n",
    "n_target = n_trials * target_chance\n",
    "n_none = n_trials * none_chance\n",
    "n_odd = n_trials * none_chance"
   ]
  },
  {
   "cell_type": "code",
   "execution_count": 2,
   "metadata": {
    "slideshow": {
     "slide_type": "slide"
    }
   },
   "outputs": [],
   "source": [
    "def fixation_gitter():\n",
    "    '''\n",
    "    jittering fixation time\n",
    "    '''\n",
    "    return np.random.normal(base, jitter, 1)[0]\n",
    "\n",
    "def exp_trials():\n",
    "    '''\n",
    "    Experiment trials!\n",
    "    '''\n",
    "\n",
    "    lst_trials = [target] * int(n_target) \\\n",
    "               + [none] * int(n_none) \\\n",
    "               + [odd] * int(n_odd)    \n",
    "    \n",
    "    np.random.shuffle(lst_trials)\n",
    "    \n",
    "    correct_ans = ['None' if t != target else '1' for t in lst_trials]\n",
    "    \n",
    "    # create output\n",
    "    d = {'item': lst_trials,\n",
    "         'fixation_time': [fixation_gitter() for i in range(n_trials)],\n",
    "         'ans': correct_ans,\n",
    "         }\n",
    "\n",
    "    df_trials = pd.DataFrame(d)\n",
    "    df_trials['stim_duration'] = t_trials - df_trials['fixation_time']\n",
    "\n",
    "    return df_trials"
   ]
  },
  {
   "cell_type": "code",
   "execution_count": 3,
   "metadata": {
    "scrolled": true,
    "slideshow": {
     "slide_type": "subslide"
    }
   },
   "outputs": [
    {
     "data": {
      "text/html": [
       "<div>\n",
       "<style scoped>\n",
       "    .dataframe tbody tr th:only-of-type {\n",
       "        vertical-align: middle;\n",
       "    }\n",
       "\n",
       "    .dataframe tbody tr th {\n",
       "        vertical-align: top;\n",
       "    }\n",
       "\n",
       "    .dataframe thead th {\n",
       "        text-align: right;\n",
       "    }\n",
       "</style>\n",
       "<table border=\"1\" class=\"dataframe\">\n",
       "  <thead>\n",
       "    <tr style=\"text-align: right;\">\n",
       "      <th></th>\n",
       "      <th>item</th>\n",
       "      <th>fixation_time</th>\n",
       "      <th>ans</th>\n",
       "      <th>stim_duration</th>\n",
       "    </tr>\n",
       "  </thead>\n",
       "  <tbody>\n",
       "    <tr>\n",
       "      <th>0</th>\n",
       "      <td>X</td>\n",
       "      <td>1270.089680</td>\n",
       "      <td>None</td>\n",
       "      <td>3229.910320</td>\n",
       "    </tr>\n",
       "    <tr>\n",
       "      <th>1</th>\n",
       "      <td>O</td>\n",
       "      <td>4286.447259</td>\n",
       "      <td>1</td>\n",
       "      <td>213.552741</td>\n",
       "    </tr>\n",
       "    <tr>\n",
       "      <th>2</th>\n",
       "      <td>Q</td>\n",
       "      <td>1682.374315</td>\n",
       "      <td>None</td>\n",
       "      <td>2817.625685</td>\n",
       "    </tr>\n",
       "    <tr>\n",
       "      <th>3</th>\n",
       "      <td>O</td>\n",
       "      <td>1738.086275</td>\n",
       "      <td>1</td>\n",
       "      <td>2761.913725</td>\n",
       "    </tr>\n",
       "    <tr>\n",
       "      <th>4</th>\n",
       "      <td>X</td>\n",
       "      <td>1735.340220</td>\n",
       "      <td>None</td>\n",
       "      <td>2764.659780</td>\n",
       "    </tr>\n",
       "  </tbody>\n",
       "</table>\n",
       "</div>"
      ],
      "text/plain": [
       "  item  fixation_time   ans  stim_duration\n",
       "0    X    1270.089680  None    3229.910320\n",
       "1    O    4286.447259     1     213.552741\n",
       "2    Q    1682.374315  None    2817.625685\n",
       "3    O    1738.086275     1    2761.913725\n",
       "4    X    1735.340220  None    2764.659780"
      ]
     },
     "execution_count": 3,
     "metadata": {},
     "output_type": "execute_result"
    }
   ],
   "source": [
    "my_trials = exp_trials()\n",
    "my_trials.head()\n",
    "# my_trials.to_csv('my_trials.csv')  # hint: you can save it out"
   ]
  },
  {
   "cell_type": "markdown",
   "metadata": {
    "slideshow": {
     "slide_type": "slide"
    }
   },
   "source": [
    "Let's now image we have some fake participants.  \n",
    "There are several ways to get the parameters for the simulation:\n",
    " 1. Pilot data or old studies\n",
    " 2. Existing pubished study (if you are using existing paradigmn)\n",
    "\n",
    "Here today, I am just using some randome numbers."
   ]
  },
  {
   "cell_type": "code",
   "execution_count": 4,
   "metadata": {
    "slideshow": {
     "slide_type": "-"
    }
   },
   "outputs": [],
   "source": [
    "mu1, sigma1 = 560, 35  # correct responses\n",
    "mu2, sigma2 = 642, 54  # incorrect responses\n",
    "n_sim = 20"
   ]
  },
  {
   "cell_type": "code",
   "execution_count": 5,
   "metadata": {
    "slideshow": {
     "slide_type": "slide"
    }
   },
   "outputs": [],
   "source": [
    "def simulation(lst_trials, mu1, sigma1, mu2, sigma2):\n",
    "    '''\n",
    "    A hypothetical pattern of responses\n",
    "    \n",
    "    '''\n",
    "    rt = []\n",
    "    corr = []\n",
    "    for item in lst_trials:\n",
    "        if item=='O':\n",
    "            # Let's assume they correctly response to all these trials\n",
    "            fake_rt = np.random.normal(mu1, sigma1, 1)[0]\n",
    "            fake_corr = 1\n",
    "            \n",
    "        elif item=='Q':\n",
    "            # let's assume the participant press go 20% of the time\n",
    "            if np.random.randint(1, 100) < 20:\n",
    "                fake_rt = np.random.normal(mu2, sigma2, 1)[0]\n",
    "                fake_corr = 0\n",
    "            else:\n",
    "                fake_rt = None\n",
    "                fake_corr = 1\n",
    "        else:\n",
    "            # let's assume the participant press go 20% of the time\n",
    "            if np.random.randint(1, 100) < 20:\n",
    "                fake_rt = np.random.normal(mu2, sigma2, 1)[0]\n",
    "                fake_corr = 0\n",
    "            else:\n",
    "                fake_rt = None\n",
    "                fake_corr = 1\n",
    "\n",
    "        rt.append(fake_rt)\n",
    "        corr.append(fake_corr)\n",
    "    return rt, corr"
   ]
  },
  {
   "cell_type": "code",
   "execution_count": 6,
   "metadata": {
    "slideshow": {
     "slide_type": "slide"
    }
   },
   "outputs": [],
   "source": [
    "def exp_trials_sim(mu1, sigma1, mu2, sigma2, n_sim):\n",
    "    sim_output = []\n",
    "    for s in range(n_sim):\n",
    "            \n",
    "        lst_trials = [target] * int(n_target) \\\n",
    "                   + [none] * int(n_none) \\\n",
    "                   + [odd] * int(n_odd)\n",
    "        \n",
    "        np.random.shuffle(lst_trials)\n",
    "        correct_ans = ['None' if t != target else '1' for t in lst_trials]\n",
    "        \n",
    "        # simulation of responses\n",
    "        rt, corr = simulation(lst_trials, mu1, sigma1, mu2, sigma2)\n",
    "            \n",
    "        # create output\n",
    "        d = {'item': lst_trials,\n",
    "             'fixation_time': [isi() for i in range(n_trials)],\n",
    "             'ans': correct_ans,\n",
    "             'RT': rt,\n",
    "             'correct': corr,\n",
    "             }\n",
    "\n",
    "        df= pd.DataFrame(d)\n",
    "        df['stim_duration'] = t_trials - df['fixation_time']\n",
    "        sim_output.append(df)   \n",
    "    return sim_output"
   ]
  },
  {
   "cell_type": "code",
   "execution_count": 7,
   "metadata": {
    "slideshow": {
     "slide_type": "slide"
    }
   },
   "outputs": [],
   "source": [
    "# Simulate\n",
    "my_sim = exp_trials_sim(mu1, sigma1, mu2, sigma2, 20)"
   ]
  },
  {
   "cell_type": "code",
   "execution_count": 9,
   "metadata": {
    "slideshow": {
     "slide_type": "subslide"
    }
   },
   "outputs": [
    {
     "data": {
      "text/html": [
       "<div>\n",
       "<style scoped>\n",
       "    .dataframe tbody tr th:only-of-type {\n",
       "        vertical-align: middle;\n",
       "    }\n",
       "\n",
       "    .dataframe tbody tr th {\n",
       "        vertical-align: top;\n",
       "    }\n",
       "\n",
       "    .dataframe thead th {\n",
       "        text-align: right;\n",
       "    }\n",
       "</style>\n",
       "<table border=\"1\" class=\"dataframe\">\n",
       "  <thead>\n",
       "    <tr style=\"text-align: right;\">\n",
       "      <th></th>\n",
       "      <th>item</th>\n",
       "      <th>fixation_time</th>\n",
       "      <th>ans</th>\n",
       "      <th>RT</th>\n",
       "      <th>correct</th>\n",
       "      <th>stim_duration</th>\n",
       "    </tr>\n",
       "  </thead>\n",
       "  <tbody>\n",
       "    <tr>\n",
       "      <th>0</th>\n",
       "      <td>O</td>\n",
       "      <td>3108.745160</td>\n",
       "      <td>1</td>\n",
       "      <td>579.512596</td>\n",
       "      <td>1</td>\n",
       "      <td>1391.254840</td>\n",
       "    </tr>\n",
       "    <tr>\n",
       "      <th>1</th>\n",
       "      <td>O</td>\n",
       "      <td>3680.681441</td>\n",
       "      <td>1</td>\n",
       "      <td>543.844119</td>\n",
       "      <td>1</td>\n",
       "      <td>819.318559</td>\n",
       "    </tr>\n",
       "    <tr>\n",
       "      <th>2</th>\n",
       "      <td>X</td>\n",
       "      <td>2491.132084</td>\n",
       "      <td>None</td>\n",
       "      <td>673.206628</td>\n",
       "      <td>0</td>\n",
       "      <td>2008.867916</td>\n",
       "    </tr>\n",
       "    <tr>\n",
       "      <th>3</th>\n",
       "      <td>X</td>\n",
       "      <td>1286.866289</td>\n",
       "      <td>None</td>\n",
       "      <td>NaN</td>\n",
       "      <td>1</td>\n",
       "      <td>3213.133711</td>\n",
       "    </tr>\n",
       "    <tr>\n",
       "      <th>4</th>\n",
       "      <td>Q</td>\n",
       "      <td>3369.073874</td>\n",
       "      <td>None</td>\n",
       "      <td>NaN</td>\n",
       "      <td>1</td>\n",
       "      <td>1130.926126</td>\n",
       "    </tr>\n",
       "    <tr>\n",
       "      <th>5</th>\n",
       "      <td>O</td>\n",
       "      <td>1673.742778</td>\n",
       "      <td>1</td>\n",
       "      <td>597.711095</td>\n",
       "      <td>1</td>\n",
       "      <td>2826.257222</td>\n",
       "    </tr>\n",
       "    <tr>\n",
       "      <th>6</th>\n",
       "      <td>Q</td>\n",
       "      <td>1581.445045</td>\n",
       "      <td>None</td>\n",
       "      <td>634.245139</td>\n",
       "      <td>0</td>\n",
       "      <td>2918.554955</td>\n",
       "    </tr>\n",
       "    <tr>\n",
       "      <th>7</th>\n",
       "      <td>O</td>\n",
       "      <td>3719.629641</td>\n",
       "      <td>1</td>\n",
       "      <td>525.122763</td>\n",
       "      <td>1</td>\n",
       "      <td>780.370359</td>\n",
       "    </tr>\n",
       "    <tr>\n",
       "      <th>8</th>\n",
       "      <td>O</td>\n",
       "      <td>1132.413536</td>\n",
       "      <td>1</td>\n",
       "      <td>538.069360</td>\n",
       "      <td>1</td>\n",
       "      <td>3367.586464</td>\n",
       "    </tr>\n",
       "    <tr>\n",
       "      <th>9</th>\n",
       "      <td>O</td>\n",
       "      <td>740.731067</td>\n",
       "      <td>1</td>\n",
       "      <td>638.249282</td>\n",
       "      <td>1</td>\n",
       "      <td>3759.268933</td>\n",
       "    </tr>\n",
       "    <tr>\n",
       "      <th>10</th>\n",
       "      <td>X</td>\n",
       "      <td>1077.682771</td>\n",
       "      <td>None</td>\n",
       "      <td>NaN</td>\n",
       "      <td>1</td>\n",
       "      <td>3422.317229</td>\n",
       "    </tr>\n",
       "    <tr>\n",
       "      <th>11</th>\n",
       "      <td>X</td>\n",
       "      <td>2307.164027</td>\n",
       "      <td>None</td>\n",
       "      <td>NaN</td>\n",
       "      <td>1</td>\n",
       "      <td>2192.835973</td>\n",
       "    </tr>\n",
       "    <tr>\n",
       "      <th>12</th>\n",
       "      <td>O</td>\n",
       "      <td>1951.278962</td>\n",
       "      <td>1</td>\n",
       "      <td>575.228354</td>\n",
       "      <td>1</td>\n",
       "      <td>2548.721038</td>\n",
       "    </tr>\n",
       "    <tr>\n",
       "      <th>13</th>\n",
       "      <td>O</td>\n",
       "      <td>1864.239440</td>\n",
       "      <td>1</td>\n",
       "      <td>581.810735</td>\n",
       "      <td>1</td>\n",
       "      <td>2635.760560</td>\n",
       "    </tr>\n",
       "    <tr>\n",
       "      <th>14</th>\n",
       "      <td>O</td>\n",
       "      <td>818.551101</td>\n",
       "      <td>1</td>\n",
       "      <td>514.542971</td>\n",
       "      <td>1</td>\n",
       "      <td>3681.448899</td>\n",
       "    </tr>\n",
       "    <tr>\n",
       "      <th>15</th>\n",
       "      <td>O</td>\n",
       "      <td>1631.695143</td>\n",
       "      <td>1</td>\n",
       "      <td>587.457211</td>\n",
       "      <td>1</td>\n",
       "      <td>2868.304857</td>\n",
       "    </tr>\n",
       "    <tr>\n",
       "      <th>16</th>\n",
       "      <td>Q</td>\n",
       "      <td>2776.995136</td>\n",
       "      <td>None</td>\n",
       "      <td>NaN</td>\n",
       "      <td>1</td>\n",
       "      <td>1723.004864</td>\n",
       "    </tr>\n",
       "    <tr>\n",
       "      <th>17</th>\n",
       "      <td>Q</td>\n",
       "      <td>986.186034</td>\n",
       "      <td>None</td>\n",
       "      <td>NaN</td>\n",
       "      <td>1</td>\n",
       "      <td>3513.813966</td>\n",
       "    </tr>\n",
       "    <tr>\n",
       "      <th>18</th>\n",
       "      <td>O</td>\n",
       "      <td>2306.996616</td>\n",
       "      <td>1</td>\n",
       "      <td>582.414721</td>\n",
       "      <td>1</td>\n",
       "      <td>2193.003384</td>\n",
       "    </tr>\n",
       "    <tr>\n",
       "      <th>19</th>\n",
       "      <td>O</td>\n",
       "      <td>1666.625126</td>\n",
       "      <td>1</td>\n",
       "      <td>551.964455</td>\n",
       "      <td>1</td>\n",
       "      <td>2833.374874</td>\n",
       "    </tr>\n",
       "  </tbody>\n",
       "</table>\n",
       "</div>"
      ],
      "text/plain": [
       "   item  fixation_time   ans          RT  correct  stim_duration\n",
       "0     O    3108.745160     1  579.512596        1    1391.254840\n",
       "1     O    3680.681441     1  543.844119        1     819.318559\n",
       "2     X    2491.132084  None  673.206628        0    2008.867916\n",
       "3     X    1286.866289  None         NaN        1    3213.133711\n",
       "4     Q    3369.073874  None         NaN        1    1130.926126\n",
       "5     O    1673.742778     1  597.711095        1    2826.257222\n",
       "6     Q    1581.445045  None  634.245139        0    2918.554955\n",
       "7     O    3719.629641     1  525.122763        1     780.370359\n",
       "8     O    1132.413536     1  538.069360        1    3367.586464\n",
       "9     O     740.731067     1  638.249282        1    3759.268933\n",
       "10    X    1077.682771  None         NaN        1    3422.317229\n",
       "11    X    2307.164027  None         NaN        1    2192.835973\n",
       "12    O    1951.278962     1  575.228354        1    2548.721038\n",
       "13    O    1864.239440     1  581.810735        1    2635.760560\n",
       "14    O     818.551101     1  514.542971        1    3681.448899\n",
       "15    O    1631.695143     1  587.457211        1    2868.304857\n",
       "16    Q    2776.995136  None         NaN        1    1723.004864\n",
       "17    Q     986.186034  None         NaN        1    3513.813966\n",
       "18    O    2306.996616     1  582.414721        1    2193.003384\n",
       "19    O    1666.625126     1  551.964455        1    2833.374874"
      ]
     },
     "execution_count": 9,
     "metadata": {},
     "output_type": "execute_result"
    }
   ],
   "source": [
    "my_sim[2]  # Let's look at fake participant #2"
   ]
  },
  {
   "cell_type": "markdown",
   "metadata": {
    "slideshow": {
     "slide_type": "slide"
    }
   },
   "source": [
    "## Now what?\n",
    "\n",
    " - You can use the simulated output to do statistic tests/modeling/power analysis etc  \n",
    " - Improve your experiment design/hypothesis\n",
    " - Think about how to impliment this technique in your experiment\n"
   ]
  }
 ],
 "metadata": {
  "celltoolbar": "Slideshow",
  "kernelspec": {
   "display_name": "Python 3",
   "language": "python",
   "name": "python3"
  },
  "language_info": {
   "codemirror_mode": {
    "name": "ipython",
    "version": 3
   },
   "file_extension": ".py",
   "mimetype": "text/x-python",
   "name": "python",
   "nbconvert_exporter": "python",
   "pygments_lexer": "ipython3",
   "version": "3.7.0"
  }
 },
 "nbformat": 4,
 "nbformat_minor": 2
}
